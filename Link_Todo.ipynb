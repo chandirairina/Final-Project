{
 "cells": [
  {
   "cell_type": "code",
   "execution_count": 2,
   "metadata": {},
   "outputs": [],
   "source": [
    "from selenium import webdriver\n",
    "from selenium.webdriver.common.keys import Keys\n",
    "from time import sleep, strftime\n",
    "from random import randint\n",
    "import pandas as pd\n",
    "import numpy as np"
   ]
  },
  {
   "cell_type": "code",
   "execution_count": 7,
   "metadata": {},
   "outputs": [],
   "source": [
    "homepage = \"https://www.tripadvisor.co.id/Attraction\"\n",
    "path = r\"C:\\Users\\chiri\\Downloads\\chromedriver.exe\"\n",
    "\n",
    "driver = webdriver.Chrome(path)"
   ]
  },
  {
   "cell_type": "code",
   "execution_count": 3,
   "metadata": {},
   "outputs": [],
   "source": [
    "df=pd.read_csv(r\"C:\\Users\\chiri\\Purwadhika\\Final Project\\dataset_baseline_nodupllicate.csv\")\n",
    "\n",
    "destination=df[\"Travel Destination\"].values"
   ]
  },
  {
   "cell_type": "code",
   "execution_count": 4,
   "metadata": {
    "scrolled": true
   },
   "outputs": [
    {
     "data": {
      "text/html": [
       "<div>\n",
       "<style scoped>\n",
       "    .dataframe tbody tr th:only-of-type {\n",
       "        vertical-align: middle;\n",
       "    }\n",
       "\n",
       "    .dataframe tbody tr th {\n",
       "        vertical-align: top;\n",
       "    }\n",
       "\n",
       "    .dataframe thead th {\n",
       "        text-align: right;\n",
       "    }\n",
       "</style>\n",
       "<table border=\"1\" class=\"dataframe\">\n",
       "  <thead>\n",
       "    <tr style=\"text-align: right;\">\n",
       "      <th></th>\n",
       "      <th>Country Name</th>\n",
       "      <th>Travel Destination</th>\n",
       "      <th>Checking</th>\n",
       "      <th>Things to Do</th>\n",
       "      <th>Location</th>\n",
       "      <th>Review Count</th>\n",
       "    </tr>\n",
       "  </thead>\n",
       "  <tbody>\n",
       "    <tr>\n",
       "      <th>0</th>\n",
       "      <td>Indonesia</td>\n",
       "      <td>Bintan</td>\n",
       "      <td>Bintan</td>\n",
       "      <td>tur aktivitasluarruangan transportasi turdenga...</td>\n",
       "      <td>Bintan Regency, Indonesia</td>\n",
       "      <td>25006</td>\n",
       "    </tr>\n",
       "    <tr>\n",
       "      <th>1</th>\n",
       "      <td>Indonesia</td>\n",
       "      <td>Seminyak</td>\n",
       "      <td>Seminyak</td>\n",
       "      <td>tur spadankebugaran aktivitasluarruangan tempa...</td>\n",
       "      <td>Kecamatan Kuta, Indonesia</td>\n",
       "      <td>451212</td>\n",
       "    </tr>\n",
       "    <tr>\n",
       "      <th>2</th>\n",
       "      <td>Indonesia</td>\n",
       "      <td>Bali</td>\n",
       "      <td>Bali</td>\n",
       "      <td>tur aktivitasluarruangan turdenganperahudanola...</td>\n",
       "      <td>Indonesia</td>\n",
       "      <td>2998882</td>\n",
       "    </tr>\n",
       "    <tr>\n",
       "      <th>3</th>\n",
       "      <td>Indonesia</td>\n",
       "      <td>Ubud</td>\n",
       "      <td>Ubud</td>\n",
       "      <td>tur aktivitasluarruangan spadankebugaran trans...</td>\n",
       "      <td>Gianyar Regency, Indonesia</td>\n",
       "      <td>610495</td>\n",
       "    </tr>\n",
       "    <tr>\n",
       "      <th>4</th>\n",
       "      <td>Indonesia</td>\n",
       "      <td>Jakarta</td>\n",
       "      <td>Jakarta</td>\n",
       "      <td>tur tempatbelanja spadankebugaran aktivitaslua...</td>\n",
       "      <td>Jawa, Indonesia</td>\n",
       "      <td>339358</td>\n",
       "    </tr>\n",
       "    <tr>\n",
       "      <th>...</th>\n",
       "      <td>...</td>\n",
       "      <td>...</td>\n",
       "      <td>...</td>\n",
       "      <td>...</td>\n",
       "      <td>...</td>\n",
       "      <td>...</td>\n",
       "    </tr>\n",
       "    <tr>\n",
       "      <th>5174</th>\n",
       "      <td>Philippines</td>\n",
       "      <td>Tawala</td>\n",
       "      <td>Tawala</td>\n",
       "      <td>tur turdenganperahudanolahragaair aktivitaslua...</td>\n",
       "      <td>Panglao, Filipina</td>\n",
       "      <td>6609</td>\n",
       "    </tr>\n",
       "    <tr>\n",
       "      <th>5175</th>\n",
       "      <td>Philippines</td>\n",
       "      <td>Negros Occidental</td>\n",
       "      <td>Negros Occidental</td>\n",
       "      <td>wisataalamdantaman pemandangandantengara aktiv...</td>\n",
       "      <td>Negros Island, Filipina</td>\n",
       "      <td>15452</td>\n",
       "    </tr>\n",
       "    <tr>\n",
       "      <th>5176</th>\n",
       "      <td>Philippines</td>\n",
       "      <td>Bulacan Province</td>\n",
       "      <td>Bulacan Province</td>\n",
       "      <td>pemandangandantengara wisataalamdantaman taman...</td>\n",
       "      <td>Central Luzon Region, Filipina</td>\n",
       "      <td>1761</td>\n",
       "    </tr>\n",
       "    <tr>\n",
       "      <th>5177</th>\n",
       "      <td>Philippines</td>\n",
       "      <td>Bicol Region</td>\n",
       "      <td>Bicol Region</td>\n",
       "      <td>wisataalamdantaman pemandangandantengara aktiv...</td>\n",
       "      <td>Luzon, Filipina</td>\n",
       "      <td>19573</td>\n",
       "    </tr>\n",
       "    <tr>\n",
       "      <th>5178</th>\n",
       "      <td>Philippines</td>\n",
       "      <td>Anilao</td>\n",
       "      <td>Anilao</td>\n",
       "      <td>tur turdenganperahudanolahragaair wisataalamda...</td>\n",
       "      <td>Batangas Province, Filipina</td>\n",
       "      <td>256</td>\n",
       "    </tr>\n",
       "  </tbody>\n",
       "</table>\n",
       "<p>5179 rows × 6 columns</p>\n",
       "</div>"
      ],
      "text/plain": [
       "     Country Name Travel Destination           Checking  \\\n",
       "0       Indonesia             Bintan             Bintan   \n",
       "1       Indonesia           Seminyak           Seminyak   \n",
       "2       Indonesia               Bali               Bali   \n",
       "3       Indonesia               Ubud               Ubud   \n",
       "4       Indonesia            Jakarta            Jakarta   \n",
       "...           ...                ...                ...   \n",
       "5174  Philippines             Tawala             Tawala   \n",
       "5175  Philippines  Negros Occidental  Negros Occidental   \n",
       "5176  Philippines   Bulacan Province   Bulacan Province   \n",
       "5177  Philippines       Bicol Region       Bicol Region   \n",
       "5178  Philippines             Anilao             Anilao   \n",
       "\n",
       "                                           Things to Do  \\\n",
       "0     tur aktivitasluarruangan transportasi turdenga...   \n",
       "1     tur spadankebugaran aktivitasluarruangan tempa...   \n",
       "2     tur aktivitasluarruangan turdenganperahudanola...   \n",
       "3     tur aktivitasluarruangan spadankebugaran trans...   \n",
       "4     tur tempatbelanja spadankebugaran aktivitaslua...   \n",
       "...                                                 ...   \n",
       "5174  tur turdenganperahudanolahragaair aktivitaslua...   \n",
       "5175  wisataalamdantaman pemandangandantengara aktiv...   \n",
       "5176  pemandangandantengara wisataalamdantaman taman...   \n",
       "5177  wisataalamdantaman pemandangandantengara aktiv...   \n",
       "5178  tur turdenganperahudanolahragaair wisataalamda...   \n",
       "\n",
       "                            Location  Review Count  \n",
       "0          Bintan Regency, Indonesia         25006  \n",
       "1          Kecamatan Kuta, Indonesia        451212  \n",
       "2                          Indonesia       2998882  \n",
       "3         Gianyar Regency, Indonesia        610495  \n",
       "4                    Jawa, Indonesia        339358  \n",
       "...                              ...           ...  \n",
       "5174               Panglao, Filipina          6609  \n",
       "5175         Negros Island, Filipina         15452  \n",
       "5176  Central Luzon Region, Filipina          1761  \n",
       "5177                 Luzon, Filipina         19573  \n",
       "5178     Batangas Province, Filipina           256  \n",
       "\n",
       "[5179 rows x 6 columns]"
      ]
     },
     "execution_count": 4,
     "metadata": {},
     "output_type": "execute_result"
    }
   ],
   "source": [
    "df"
   ]
  },
  {
   "cell_type": "code",
   "execution_count": 4,
   "metadata": {},
   "outputs": [],
   "source": [
    "## Import dataset\n",
    "# df = pd.read_csv(\"dataset_indo.csv\")\n",
    "# destination = df['Travel Destination'].values"
   ]
  },
  {
   "cell_type": "code",
   "execution_count": 12,
   "metadata": {},
   "outputs": [],
   "source": [
    "df_destiny = []\n",
    "todo = [] \n",
    "link_todo = [] "
   ]
  },
  {
   "cell_type": "code",
   "execution_count": 8,
   "metadata": {},
   "outputs": [
    {
     "data": {
      "text/plain": [
       "'Martivili'"
      ]
     },
     "execution_count": 8,
     "metadata": {},
     "output_type": "execute_result"
    }
   ],
   "source": [
    "destination[2]"
   ]
  },
  {
   "cell_type": "code",
   "execution_count": 66,
   "metadata": {},
   "outputs": [
    {
     "name": "stdout",
     "output_type": "stream",
     "text": [
      "Ust-Kut\n",
      "Pemandangan & Tengara (2)\n",
      "https://www.tripadvisor.co.id/Attractions-g2387420-Activities-c47-Ust_Kut_Irkutsk_Oblast_Siberian_District.html\n",
      "Ust-Kut\n",
      "Museum (1)\n",
      "https://www.tripadvisor.co.id/Attractions-g2387420-Activities-c49-Ust_Kut_Irkutsk_Oblast_Siberian_District.html\n",
      "Ust-Kut\n",
      "Hiburan & Permainan (1)\n",
      "https://www.tripadvisor.co.id/Attractions-g2387420-Activities-c56-Ust_Kut_Irkutsk_Oblast_Siberian_District.html\n",
      "Ust-Kut\n",
      "Masuk Gratis (1)\n",
      "https://www.tripadvisor.co.id/Attractions-g2387420-Activities-zft11292-Ust_Kut_Irkutsk_Oblast_Siberian_District.html\n",
      "Ust-Kut\n",
      "Achinsk\n",
      "Museum (1)\n",
      "https://www.tripadvisor.co.id/Attractions-g2376993-Activities-c49-Achinsk_Krasnoyarsk_Krai_Siberian_District.html\n",
      "Achinsk\n",
      "Wisata Alam & Taman (1)\n",
      "https://www.tripadvisor.co.id/Attractions-g2376993-Activities-c57-Achinsk_Krasnoyarsk_Krai_Siberian_District.html\n",
      "Achinsk\n",
      "Konser & Pertunjukan (1)\n",
      "https://www.tripadvisor.co.id/Attractions-g2376993-Activities-c58-Achinsk_Krasnoyarsk_Krai_Siberian_District.html\n",
      "Achinsk\n",
      "Nevinnomyssk\n",
      "Pemandangan & Tengara (4)\n",
      "https://www.tripadvisor.co.id/Attractions-g2376076-Activities-c47-Nevinnomyssk_Stavropol_Krai_North_Caucasian_District.html\n",
      "Nevinnomyssk\n",
      "Spa & Kebugaran (1)\n",
      "https://www.tripadvisor.co.id/Attractions-g2376076-Activities-c40-Nevinnomyssk_Stavropol_Krai_North_Caucasian_District.html\n",
      "Nevinnomyssk\n",
      "Museum (1)\n",
      "https://www.tripadvisor.co.id/Attractions-g2376076-Activities-c49-Nevinnomyssk_Stavropol_Krai_North_Caucasian_District.html\n",
      "Nevinnomyssk\n",
      "Hiburan & Permainan (1)\n",
      "https://www.tripadvisor.co.id/Attractions-g2376076-Activities-c56-Nevinnomyssk_Stavropol_Krai_North_Caucasian_District.html\n",
      "Nevinnomyssk\n",
      "Cocok untuk Anak-Anak (1)\n",
      "https://www.tripadvisor.co.id/Attractions-g2376076-Activities-zft11306-Nevinnomyssk_Stavropol_Krai_North_Caucasian_District.html\n",
      "Nevinnomyssk\n",
      "Bagus Saat Hujan (1)\n",
      "https://www.tripadvisor.co.id/Attractions-g2376076-Activities-zft11295-Nevinnomyssk_Stavropol_Krai_North_Caucasian_District.html\n",
      "Nevinnomyssk\n",
      "Vyshny Volochek\n",
      "Pemandangan & Tengara (8)\n",
      "https://www.tripadvisor.co.id/Attractions-g2387231-Activities-c47-Vyshny_Volochek_Tver_Oblast_Central_Russia.html\n",
      "Vyshny Volochek\n",
      "Museum (3)\n",
      "https://www.tripadvisor.co.id/Attractions-g2387231-Activities-c49-Vyshny_Volochek_Tver_Oblast_Central_Russia.html\n",
      "Vyshny Volochek\n",
      "Wisata Alam & Taman (2)\n",
      "https://www.tripadvisor.co.id/Attractions-g2387231-Activities-c57-Vyshny_Volochek_Tver_Oblast_Central_Russia.html\n",
      "Vyshny Volochek\n",
      "Hiburan malam (1)\n",
      "https://www.tripadvisor.co.id/Attractions-g2387231-Activities-c20-Vyshny_Volochek_Tver_Oblast_Central_Russia.html\n",
      "Vyshny Volochek\n",
      "Konser & Pertunjukan (1)\n",
      "https://www.tripadvisor.co.id/Attractions-g2387231-Activities-c58-Vyshny_Volochek_Tver_Oblast_Central_Russia.html\n",
      "Vyshny Volochek\n",
      "Bagus Saat Hujan (5)\n",
      "https://www.tripadvisor.co.id/Attractions-g2387231-Activities-zft11295-Vyshny_Volochek_Tver_Oblast_Central_Russia.html\n",
      "Vyshny Volochek\n",
      "Harga terjangkau (2)\n",
      "https://www.tripadvisor.co.id/Attractions-g2387231-Activities-zft11309-Vyshny_Volochek_Tver_Oblast_Central_Russia.html\n",
      "Vyshny Volochek\n",
      "Cocok untuk Anak-Anak (2)\n",
      "https://www.tripadvisor.co.id/Attractions-g2387231-Activities-zft11306-Vyshny_Volochek_Tver_Oblast_Central_Russia.html\n",
      "Vyshny Volochek\n",
      "Masuk Gratis (2)\n",
      "https://www.tripadvisor.co.id/Attractions-g2387231-Activities-zft11292-Vyshny_Volochek_Tver_Oblast_Central_Russia.html\n",
      "Vyshny Volochek\n",
      "Tempat yang Belum Populer (1)\n",
      "https://www.tripadvisor.co.id/Attractions-g2387231-Activities-zft12156-Vyshny_Volochek_Tver_Oblast_Central_Russia.html\n",
      "Vyshny Volochek\n",
      "Livny\n",
      "Snezhinsk\n",
      "Usinsk\n",
      "Satka\n",
      "Lytkarino\n",
      "Fryazino\n",
      "Apatity\n",
      "Sarov\n",
      "Divnogorsk\n"
     ]
    }
   ],
   "source": [
    "for destiny in destination[1488:1501]:\n",
    "    print(destiny)\n",
    "    driver.get(homepage)\n",
    "    sleep(3)\n",
    "    driver.find_element_by_xpath('//*[@id=\"component_1\"]/div/div/form/input[1]').send_keys(destiny)\n",
    "    sleep(3)\n",
    "#     driver.find_element_by_xpath('//*[@id=\"component_1\"]/div/div/form/input[1]').send_keys(Keys.ENTER)\n",
    "    driver.find_element_by_class_name('_1dvyiAq4').click()\n",
    "    sleep(3)\n",
    "    \n",
    "    todolist = driver.find_elements_by_class_name('_3S09qsQh._30GXgBoj')\n",
    "    for wtd in todolist:\n",
    "        if (wtd.text!=\"Lihat semua\")|(wtd.text!=\"\"):\n",
    "            todo.append(wtd.text)\n",
    "            print(wtd.text)\n",
    "            link_todo.append(wtd.get_attribute('href'))\n",
    "            print(wtd.get_attribute('href'))\n",
    "            df_destiny.append(destiny)\n",
    "            print(destiny)\n",
    "    \n"
   ]
  },
  {
   "cell_type": "code",
   "execution_count": 67,
   "metadata": {
    "scrolled": false,
    "tags": []
   },
   "outputs": [
    {
     "name": "stdout",
     "output_type": "stream",
     "text": [
      "15864\n",
      "15864\n",
      "15864\n"
     ]
    }
   ],
   "source": [
    "# print(len(df_todo))\n",
    "print(len(df_destiny))\n",
    "# print(len(rating))\n",
    "# print(len(reviewers))\n",
    "print(len(link_todo))\n",
    "print(len(todo))"
   ]
  },
  {
   "cell_type": "code",
   "execution_count": 65,
   "metadata": {},
   "outputs": [
    {
     "data": {
      "text/plain": [
       "'Ust-Kut'"
      ]
     },
     "execution_count": 65,
     "metadata": {},
     "output_type": "execute_result"
    }
   ],
   "source": [
    "destination[1488]"
   ]
  },
  {
   "cell_type": "code",
   "execution_count": 34,
   "metadata": {},
   "outputs": [],
   "source": [
    "df_todo=df_todo[0:1313]\n",
    "df_destiny=df_destiny[0:1313]\n",
    "todo=todo[0:1313]"
   ]
  },
  {
   "cell_type": "code",
   "execution_count": 68,
   "metadata": {},
   "outputs": [],
   "source": [
    "coba = pd.DataFrame({'destiny': df_destiny,\n",
    "'todo': todo,\n",
    "'link': link_todo})"
   ]
  },
  {
   "cell_type": "code",
   "execution_count": 69,
   "metadata": {},
   "outputs": [
    {
     "data": {
      "text/html": [
       "<div>\n",
       "<style scoped>\n",
       "    .dataframe tbody tr th:only-of-type {\n",
       "        vertical-align: middle;\n",
       "    }\n",
       "\n",
       "    .dataframe tbody tr th {\n",
       "        vertical-align: top;\n",
       "    }\n",
       "\n",
       "    .dataframe thead th {\n",
       "        text-align: right;\n",
       "    }\n",
       "</style>\n",
       "<table border=\"1\" class=\"dataframe\">\n",
       "  <thead>\n",
       "    <tr style=\"text-align: right;\">\n",
       "      <th></th>\n",
       "      <th>destiny</th>\n",
       "      <th>todo</th>\n",
       "      <th>link</th>\n",
       "    </tr>\n",
       "  </thead>\n",
       "  <tbody>\n",
       "    <tr>\n",
       "      <th>0</th>\n",
       "      <td>Bali</td>\n",
       "      <td>Tur (5.853)</td>\n",
       "      <td>https://www.tripadvisor.co.id/Attractions-g294...</td>\n",
       "    </tr>\n",
       "    <tr>\n",
       "      <th>1</th>\n",
       "      <td>Bali</td>\n",
       "      <td>Aktivitas Luar Ruangan (3.739)</td>\n",
       "      <td>https://www.tripadvisor.co.id/Attractions-g294...</td>\n",
       "    </tr>\n",
       "    <tr>\n",
       "      <th>2</th>\n",
       "      <td>Bali</td>\n",
       "      <td>Tur dengan Perahu &amp; Olahraga Air (2.077)</td>\n",
       "      <td>https://www.tripadvisor.co.id/Attractions-g294...</td>\n",
       "    </tr>\n",
       "    <tr>\n",
       "      <th>3</th>\n",
       "      <td>Bali</td>\n",
       "      <td>Spa &amp; Kebugaran (1.294)</td>\n",
       "      <td>https://www.tripadvisor.co.id/Attractions-g294...</td>\n",
       "    </tr>\n",
       "    <tr>\n",
       "      <th>4</th>\n",
       "      <td>Bali</td>\n",
       "      <td>Transportasi (1.247)</td>\n",
       "      <td>https://www.tripadvisor.co.id/Attractions-g294...</td>\n",
       "    </tr>\n",
       "    <tr>\n",
       "      <th>...</th>\n",
       "      <td>...</td>\n",
       "      <td>...</td>\n",
       "      <td>...</td>\n",
       "    </tr>\n",
       "    <tr>\n",
       "      <th>15859</th>\n",
       "      <td>Vyshny Volochek</td>\n",
       "      <td>Bagus Saat Hujan (5)</td>\n",
       "      <td>https://www.tripadvisor.co.id/Attractions-g238...</td>\n",
       "    </tr>\n",
       "    <tr>\n",
       "      <th>15860</th>\n",
       "      <td>Vyshny Volochek</td>\n",
       "      <td>Harga terjangkau (2)</td>\n",
       "      <td>https://www.tripadvisor.co.id/Attractions-g238...</td>\n",
       "    </tr>\n",
       "    <tr>\n",
       "      <th>15861</th>\n",
       "      <td>Vyshny Volochek</td>\n",
       "      <td>Cocok untuk Anak-Anak (2)</td>\n",
       "      <td>https://www.tripadvisor.co.id/Attractions-g238...</td>\n",
       "    </tr>\n",
       "    <tr>\n",
       "      <th>15862</th>\n",
       "      <td>Vyshny Volochek</td>\n",
       "      <td>Masuk Gratis (2)</td>\n",
       "      <td>https://www.tripadvisor.co.id/Attractions-g238...</td>\n",
       "    </tr>\n",
       "    <tr>\n",
       "      <th>15863</th>\n",
       "      <td>Vyshny Volochek</td>\n",
       "      <td>Tempat yang Belum Populer (1)</td>\n",
       "      <td>https://www.tripadvisor.co.id/Attractions-g238...</td>\n",
       "    </tr>\n",
       "  </tbody>\n",
       "</table>\n",
       "<p>15864 rows × 3 columns</p>\n",
       "</div>"
      ],
      "text/plain": [
       "               destiny                                      todo  \\\n",
       "0                 Bali                               Tur (5.853)   \n",
       "1                 Bali            Aktivitas Luar Ruangan (3.739)   \n",
       "2                 Bali  Tur dengan Perahu & Olahraga Air (2.077)   \n",
       "3                 Bali                   Spa & Kebugaran (1.294)   \n",
       "4                 Bali                      Transportasi (1.247)   \n",
       "...                ...                                       ...   \n",
       "15859  Vyshny Volochek                      Bagus Saat Hujan (5)   \n",
       "15860  Vyshny Volochek                      Harga terjangkau (2)   \n",
       "15861  Vyshny Volochek                 Cocok untuk Anak-Anak (2)   \n",
       "15862  Vyshny Volochek                          Masuk Gratis (2)   \n",
       "15863  Vyshny Volochek             Tempat yang Belum Populer (1)   \n",
       "\n",
       "                                                    link  \n",
       "0      https://www.tripadvisor.co.id/Attractions-g294...  \n",
       "1      https://www.tripadvisor.co.id/Attractions-g294...  \n",
       "2      https://www.tripadvisor.co.id/Attractions-g294...  \n",
       "3      https://www.tripadvisor.co.id/Attractions-g294...  \n",
       "4      https://www.tripadvisor.co.id/Attractions-g294...  \n",
       "...                                                  ...  \n",
       "15859  https://www.tripadvisor.co.id/Attractions-g238...  \n",
       "15860  https://www.tripadvisor.co.id/Attractions-g238...  \n",
       "15861  https://www.tripadvisor.co.id/Attractions-g238...  \n",
       "15862  https://www.tripadvisor.co.id/Attractions-g238...  \n",
       "15863  https://www.tripadvisor.co.id/Attractions-g238...  \n",
       "\n",
       "[15864 rows x 3 columns]"
      ]
     },
     "execution_count": 69,
     "metadata": {},
     "output_type": "execute_result"
    }
   ],
   "source": [
    "coba"
   ]
  },
  {
   "cell_type": "code",
   "execution_count": 70,
   "metadata": {},
   "outputs": [],
   "source": [
    "coba.to_csv(\"dataset_tahap2_others.csv\", index=False)"
   ]
  },
  {
   "cell_type": "code",
   "execution_count": null,
   "metadata": {},
   "outputs": [],
   "source": []
  }
 ],
 "metadata": {
  "kernelspec": {
   "display_name": "Python 3",
   "language": "python",
   "name": "python3"
  },
  "language_info": {
   "codemirror_mode": {
    "name": "ipython",
    "version": 3
   },
   "file_extension": ".py",
   "mimetype": "text/x-python",
   "name": "python",
   "nbconvert_exporter": "python",
   "pygments_lexer": "ipython3",
   "version": "3.7.6"
  },
  "varInspector": {
   "cols": {
    "lenName": 16,
    "lenType": 16,
    "lenVar": 40
   },
   "kernels_config": {
    "python": {
     "delete_cmd_postfix": "",
     "delete_cmd_prefix": "del ",
     "library": "var_list.py",
     "varRefreshCmd": "print(var_dic_list())"
    },
    "r": {
     "delete_cmd_postfix": ") ",
     "delete_cmd_prefix": "rm(",
     "library": "var_list.r",
     "varRefreshCmd": "cat(var_dic_list()) "
    }
   },
   "types_to_exclude": [
    "module",
    "function",
    "builtin_function_or_method",
    "instance",
    "_Feature"
   ],
   "window_display": false
  }
 },
 "nbformat": 4,
 "nbformat_minor": 4
}
